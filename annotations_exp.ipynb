{
 "cells": [
  {
   "cell_type": "code",
   "execution_count": 2,
   "metadata": {},
   "outputs": [
    {
     "name": "stdout",
     "output_type": "stream",
     "text": [
      "Requirement already satisfied: opencv-python in /Users/hannaolsson/opt/anaconda3/lib/python3.9/site-packages (4.9.0.80)\n",
      "Requirement already satisfied: numpy>=1.19.3 in /Users/hannaolsson/opt/anaconda3/lib/python3.9/site-packages (from opencv-python) (1.22.4)\n",
      "Note: you may need to restart the kernel to use updated packages.\n"
     ]
    }
   ],
   "source": [
    "pip install opencv-python"
   ]
  },
  {
   "cell_type": "code",
   "execution_count": 3,
   "metadata": {},
   "outputs": [
    {
     "name": "stdout",
     "output_type": "stream",
     "text": [
      "Requirement already satisfied: zod in /Users/hannaolsson/opt/anaconda3/lib/python3.9/site-packages (0.3.7)\n",
      "Requirement already satisfied: scipy<2.0,>=1.5 in /Users/hannaolsson/opt/anaconda3/lib/python3.9/site-packages (from zod) (1.7.3)\n",
      "Requirement already satisfied: dataclass-wizard>=0.22.2 in /Users/hannaolsson/opt/anaconda3/lib/python3.9/site-packages (from zod) (0.22.3)\n",
      "Requirement already satisfied: numpy<2.0,>=1.19 in /Users/hannaolsson/opt/anaconda3/lib/python3.9/site-packages (from zod) (1.22.4)\n",
      "Requirement already satisfied: pyquaternion>=0.9 in /Users/hannaolsson/opt/anaconda3/lib/python3.9/site-packages (from zod) (0.9.9)\n",
      "Requirement already satisfied: numpy-quaternion>=2022.4.2 in /Users/hannaolsson/opt/anaconda3/lib/python3.9/site-packages (from zod) (2023.0.2)\n",
      "Requirement already satisfied: pillow>=7 in /Users/hannaolsson/opt/anaconda3/lib/python3.9/site-packages (from zod) (9.0.1)\n",
      "Requirement already satisfied: h5py>=3.1 in /Users/hannaolsson/opt/anaconda3/lib/python3.9/site-packages (from zod) (3.6.0)\n",
      "Requirement already satisfied: tqdm>=4.60 in /Users/hannaolsson/opt/anaconda3/lib/python3.9/site-packages (from zod) (4.64.0)\n",
      "Requirement already satisfied: typing-extensions>=3.7.4.2 in /Users/hannaolsson/opt/anaconda3/lib/python3.9/site-packages (from dataclass-wizard>=0.22.2->zod) (4.8.0)\n",
      "Note: you may need to restart the kernel to use updated packages.\n"
     ]
    }
   ],
   "source": [
    "pip install zod"
   ]
  },
  {
   "cell_type": "code",
   "execution_count": 5,
   "metadata": {},
   "outputs": [
    {
     "name": "stdout",
     "output_type": "stream",
     "text": [
      "The autoreload extension is already loaded. To reload it, use:\n",
      "  %reload_ext autoreload\n"
     ]
    }
   ],
   "source": [
    "%load_ext autoreload\n",
    "%autoreload 2\n",
    "import sys\n",
    "\n",
    "sys.path.append(\"../\")\n",
    "\n",
    "# imports for plotting\n",
    "from matplotlib import pyplot as plt\n",
    "\n",
    "%matplotlib inline\n",
    "plt.rcParams[\"figure.figsize\"] = [20, 10]\n",
    "\n",
    "# import the ZOD DevKit\n",
    "from zod import ZodFrames\n",
    "from zod import ZodSequences\n",
    "\n",
    "# import default constants\n",
    "import zod.constants as constants\n",
    "from zod.constants import Camera, Lidar, Anonymization, AnnotationProject\n",
    "\n",
    "# import useful data classes\n",
    "from zod.data_classes import LidarData\n",
    "\n",
    "# NOTE! Set the path to dataset and choose a version\n",
    "dataset_root = \"/Users/hannaolsson/Desktop/OWOD/zodmini\"\n",
    "version = \"mini\"  # \"mini\" or \"full\"\n",
    "\n",
    "# initialize ZodFrames\n",
    "zod_frames = ZodFrames(dataset_root=dataset_root, version=version)\n",
    "\n",
    "# initialize ZodSequences\n",
    "zod_sequences = ZodSequences(dataset_root=dataset_root, version=version)"
   ]
  },
  {
   "cell_type": "code",
   "execution_count": 9,
   "metadata": {},
   "outputs": [
    {
     "name": "stdout",
     "output_type": "stream",
     "text": [
      "009158 cloudy\n",
      "018591 rain\n",
      "023996 rain\n",
      "029229 rain\n",
      "044953 partly-cloudy-day\n",
      "065838 partly-cloudy-day\n",
      "070221 partly-cloudy-day\n",
      "082291 partly-cloudy-night\n",
      "083430 partly-cloudy-night\n",
      "087912 rain\n",
      "007674 partly-cloudy-day\n",
      "062592 partly-cloudy-day\n"
     ]
    }
   ],
   "source": [
    "#WEATHER \n",
    "\n",
    "hard_w =[\"fog\", \"rain\", \"snow\"]\n",
    "medium_w = [\"clear-night\", \"partly-cloudy-night\", \"wind\"]\n",
    "easy_w = [\"clear-day\", \"cloudy\", \"partly-cloudy-day\"] \n",
    "\n",
    "for frame in zod_frames: \n",
    "    print(frame.info.id, frame.metadata.scraped_weather)"
   ]
  },
  {
   "cell_type": "code",
   "execution_count": 12,
   "metadata": {},
   "outputs": [
    {
     "name": "stdout",
     "output_type": "stream",
     "text": [
      "hard:  ['018591', '023996', '029229', '087912']\n",
      "medium:  ['082291', '083430']\n",
      "easy:  ['009158', '044953', '065838', '070221', '007674', '062592']\n"
     ]
    }
   ],
   "source": [
    "hard_w_frames = []\n",
    "medium_w_frames = []\n",
    "easy_w_frames = []\n",
    "\n",
    "for frame in zod_frames: \n",
    "    if frame.metadata.scraped_weather in hard_w: \n",
    "        hard_w_frames.append(frame.info.id)\n",
    "    if frame.metadata.scraped_weather in medium_w: \n",
    "        medium_w_frames.append(frame.info.id)\n",
    "    if frame.metadata.scraped_weather in easy_w: \n",
    "        easy_w_frames.append(frame.info.id)\n",
    "\n",
    "print(\"hard: \", hard_w_frames)\n",
    "print(\"medium: \", medium_w_frames)\n",
    "print(\"easy: \", easy_w_frames)\n",
    "\n",
    "\n"
   ]
  },
  {
   "cell_type": "code",
   "execution_count": null,
   "metadata": {},
   "outputs": [],
   "source": [
    "# Saving hard_w_frames\n",
    "with open('hard_w_frames.txt', 'w') as file:\n",
    "    for frame_id in hard_w_frames:\n",
    "        file.write(f\"{frame_id}\\n\")\n",
    "\n",
    "# Saving medium_w_frames\n",
    "with open('medium_w_frames.txt', 'w') as file:\n",
    "    for frame_id in medium_w_frames:\n",
    "        file.write(f\"{frame_id}\\n\")\n",
    "\n",
    "# Saving easy_w_frames\n",
    "with open('easy_w_frames.txt', 'w') as file:\n",
    "    for frame_id in easy_w_frames:\n",
    "        file.write(f\"{frame_id}\\n\")"
   ]
  }
 ],
 "metadata": {
  "kernelspec": {
   "display_name": "base",
   "language": "python",
   "name": "python3"
  },
  "language_info": {
   "codemirror_mode": {
    "name": "ipython",
    "version": 3
   },
   "file_extension": ".py",
   "mimetype": "text/x-python",
   "name": "python",
   "nbconvert_exporter": "python",
   "pygments_lexer": "ipython3",
   "version": "3.9.12"
  }
 },
 "nbformat": 4,
 "nbformat_minor": 2
}
